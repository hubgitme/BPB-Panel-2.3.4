{
  "nbformat": 4,
  "nbformat_minor": 0,
  "metadata": {
    "colab": {
      "provenance": [],
      "authorship_tag": "ABX9TyN96v86N65IVruYBapMAR8W",
      "include_colab_link": true
    },
    "kernelspec": {
      "name": "python3",
      "display_name": "Python 3"
    },
    "language_info": {
      "name": "python"
    },
    "widgets": {
      "application/vnd.jupyter.widget-state+json": {
        "03246c43b0b5480e803965e79cc84235": {
          "model_module": "@jupyter-widgets/controls",
          "model_name": "TextareaModel",
          "model_module_version": "1.5.0",
          "state": {
            "_dom_classes": [],
            "_model_module": "@jupyter-widgets/controls",
            "_model_module_version": "1.5.0",
            "_model_name": "TextareaModel",
            "_view_count": null,
            "_view_module": "@jupyter-widgets/controls",
            "_view_module_version": "1.5.0",
            "_view_name": "TextareaView",
            "continuous_update": true,
            "description": "Proxy List:",
            "description_tooltip": null,
            "disabled": false,
            "layout": "IPY_MODEL_b6aa5ae45311441e96c63c77e0abd257",
            "placeholder": "هر پروکسی را در یک خط وارد کن.\nمثلاً:\nhttp://1.2.3.4:8080\nsocks4://5.6.7.8:1080",
            "rows": null,
            "style": "IPY_MODEL_04a44fe1314740a3b465e5a054ec3540",
            "value": "http://85.133.240.75:8080\nsocks5://185.105.102.189:1080"
          }
        },
        "b6aa5ae45311441e96c63c77e0abd257": {
          "model_module": "@jupyter-widgets/base",
          "model_name": "LayoutModel",
          "model_module_version": "1.2.0",
          "state": {
            "_model_module": "@jupyter-widgets/base",
            "_model_module_version": "1.2.0",
            "_model_name": "LayoutModel",
            "_view_count": null,
            "_view_module": "@jupyter-widgets/base",
            "_view_module_version": "1.2.0",
            "_view_name": "LayoutView",
            "align_content": null,
            "align_items": null,
            "align_self": null,
            "border": null,
            "bottom": null,
            "display": null,
            "flex": null,
            "flex_flow": null,
            "grid_area": null,
            "grid_auto_columns": null,
            "grid_auto_flow": null,
            "grid_auto_rows": null,
            "grid_column": null,
            "grid_gap": null,
            "grid_row": null,
            "grid_template_areas": null,
            "grid_template_columns": null,
            "grid_template_rows": null,
            "height": "150px",
            "justify_content": null,
            "justify_items": null,
            "left": null,
            "margin": null,
            "max_height": null,
            "max_width": null,
            "min_height": null,
            "min_width": null,
            "object_fit": null,
            "object_position": null,
            "order": null,
            "overflow": null,
            "overflow_x": null,
            "overflow_y": null,
            "padding": null,
            "right": null,
            "top": null,
            "visibility": null,
            "width": "100%"
          }
        },
        "04a44fe1314740a3b465e5a054ec3540": {
          "model_module": "@jupyter-widgets/controls",
          "model_name": "DescriptionStyleModel",
          "model_module_version": "1.5.0",
          "state": {
            "_model_module": "@jupyter-widgets/controls",
            "_model_module_version": "1.5.0",
            "_model_name": "DescriptionStyleModel",
            "_view_count": null,
            "_view_module": "@jupyter-widgets/base",
            "_view_module_version": "1.2.0",
            "_view_name": "StyleView",
            "description_width": ""
          }
        },
        "871aad00434947b4ac03fafe0f4b9760": {
          "model_module": "@jupyter-widgets/controls",
          "model_name": "ButtonModel",
          "model_module_version": "1.5.0",
          "state": {
            "_dom_classes": [],
            "_model_module": "@jupyter-widgets/controls",
            "_model_module_version": "1.5.0",
            "_model_name": "ButtonModel",
            "_view_count": null,
            "_view_module": "@jupyter-widgets/controls",
            "_view_module_version": "1.5.0",
            "_view_name": "ButtonView",
            "button_style": "success",
            "description": "تست و ذخیره پروکسی‌ها",
            "disabled": false,
            "icon": "",
            "layout": "IPY_MODEL_293b377cc1cd4b6eb9f19ac9c965d56f",
            "style": "IPY_MODEL_612bd0a69e8a4e16b4ae05f0ec64c438",
            "tooltip": ""
          }
        },
        "293b377cc1cd4b6eb9f19ac9c965d56f": {
          "model_module": "@jupyter-widgets/base",
          "model_name": "LayoutModel",
          "model_module_version": "1.2.0",
          "state": {
            "_model_module": "@jupyter-widgets/base",
            "_model_module_version": "1.2.0",
            "_model_name": "LayoutModel",
            "_view_count": null,
            "_view_module": "@jupyter-widgets/base",
            "_view_module_version": "1.2.0",
            "_view_name": "LayoutView",
            "align_content": null,
            "align_items": null,
            "align_self": null,
            "border": null,
            "bottom": null,
            "display": null,
            "flex": null,
            "flex_flow": null,
            "grid_area": null,
            "grid_auto_columns": null,
            "grid_auto_flow": null,
            "grid_auto_rows": null,
            "grid_column": null,
            "grid_gap": null,
            "grid_row": null,
            "grid_template_areas": null,
            "grid_template_columns": null,
            "grid_template_rows": null,
            "height": null,
            "justify_content": null,
            "justify_items": null,
            "left": null,
            "margin": null,
            "max_height": null,
            "max_width": null,
            "min_height": null,
            "min_width": null,
            "object_fit": null,
            "object_position": null,
            "order": null,
            "overflow": null,
            "overflow_x": null,
            "overflow_y": null,
            "padding": null,
            "right": null,
            "top": null,
            "visibility": null,
            "width": null
          }
        },
        "612bd0a69e8a4e16b4ae05f0ec64c438": {
          "model_module": "@jupyter-widgets/controls",
          "model_name": "ButtonStyleModel",
          "model_module_version": "1.5.0",
          "state": {
            "_model_module": "@jupyter-widgets/controls",
            "_model_module_version": "1.5.0",
            "_model_name": "ButtonStyleModel",
            "_view_count": null,
            "_view_module": "@jupyter-widgets/base",
            "_view_module_version": "1.2.0",
            "_view_name": "StyleView",
            "button_color": null,
            "font_weight": ""
          }
        },
        "cae1203c37804cc682b84159fa9092e7": {
          "model_module": "@jupyter-widgets/output",
          "model_name": "OutputModel",
          "model_module_version": "1.0.0",
          "state": {
            "_dom_classes": [],
            "_model_module": "@jupyter-widgets/output",
            "_model_module_version": "1.0.0",
            "_model_name": "OutputModel",
            "_view_count": null,
            "_view_module": "@jupyter-widgets/output",
            "_view_module_version": "1.0.0",
            "_view_name": "OutputView",
            "layout": "IPY_MODEL_c6cdf2c485ae4a74b0273cc9096403f0",
            "msg_id": "",
            "outputs": [
              {
                "output_type": "display_data",
                "data": {
                  "text/plain": "<IPython.core.display.HTML object>",
                  "text/html": "<h3>نتایج تست پروکسی‌ها:</h3><table><tr><th>پروکسی</th><th>نوع</th><th>IP خروجی</th><th>وضعیت</th></tr><tr><td>http://85.133.240.75:8080</td><td>HTTP</td><td>-</td><td style='color:#F44336'>❌ خراب</td></tr><tr><td>socks5://185.105.102.189:1080</td><td>SOCKS5</td><td>-</td><td style='color:#F44336'>❌ خراب</td></tr></table>"
                },
                "metadata": {}
              },
              {
                "output_type": "display_data",
                "data": {
                  "text/plain": "<IPython.core.display.HTML object>",
                  "text/html": "\n        <h4>⬇️ دانلود خروجی‌ها:</h4>\n        <ul>\n            <li><a href=\"/content/iran_proxies.json\" target=\"_blank\">دانلود JSON</a></li>\n            <li><a href=\"/content/iran_proxies.csv\" target=\"_blank\">دانلود CSV</a></li>\n        </ul>\n        "
                },
                "metadata": {}
              },
              {
                "output_type": "display_data",
                "data": {
                  "text/plain": "<IPython.core.display.HTML object>",
                  "text/html": "<h3>نتایج تست پروکسی‌ها:</h3><table><tr><th>پروکسی</th><th>نوع</th><th>IP خروجی</th><th>وضعیت</th></tr><tr><td>http://85.133.240.75:8080</td><td>HTTP</td><td>-</td><td style='color:#F44336'>❌ خراب</td></tr><tr><td>socks5://185.105.102.189:1080</td><td>SOCKS5</td><td>-</td><td style='color:#F44336'>❌ خراب</td></tr></table>"
                },
                "metadata": {}
              },
              {
                "output_type": "display_data",
                "data": {
                  "text/plain": "<IPython.core.display.HTML object>",
                  "text/html": "\n        <h4>⬇️ دانلود خروجی‌ها:</h4>\n        <ul>\n            <li><a href=\"/content/iran_proxies.json\" target=\"_blank\">دانلود JSON</a></li>\n            <li><a href=\"/content/iran_proxies.csv\" target=\"_blank\">دانلود CSV</a></li>\n        </ul>\n        "
                },
                "metadata": {}
              },
              {
                "output_type": "display_data",
                "data": {
                  "text/plain": "<IPython.core.display.HTML object>",
                  "text/html": "<h3>نتایج تست پروکسی‌ها:</h3><table><tr><th>پروکسی</th><th>نوع</th><th>IP خروجی</th><th>وضعیت</th></tr><tr><td>http://85.133.240.75:8080</td><td>HTTP</td><td>-</td><td style='color:#F44336'>❌ خراب</td></tr><tr><td>socks5://185.105.102.189:1080</td><td>SOCKS5</td><td>-</td><td style='color:#F44336'>❌ خراب</td></tr></table>"
                },
                "metadata": {}
              },
              {
                "output_type": "display_data",
                "data": {
                  "text/plain": "<IPython.core.display.HTML object>",
                  "text/html": "\n        <h4>⬇️ دانلود خروجی‌ها:</h4>\n        <ul>\n            <li><a href=\"/content/iran_proxies.json\" target=\"_blank\">دانلود JSON</a></li>\n            <li><a href=\"/content/iran_proxies.csv\" target=\"_blank\">دانلود CSV</a></li>\n        </ul>\n        "
                },
                "metadata": {}
              }
            ]
          }
        },
        "c6cdf2c485ae4a74b0273cc9096403f0": {
          "model_module": "@jupyter-widgets/base",
          "model_name": "LayoutModel",
          "model_module_version": "1.2.0",
          "state": {
            "_model_module": "@jupyter-widgets/base",
            "_model_module_version": "1.2.0",
            "_model_name": "LayoutModel",
            "_view_count": null,
            "_view_module": "@jupyter-widgets/base",
            "_view_module_version": "1.2.0",
            "_view_name": "LayoutView",
            "align_content": null,
            "align_items": null,
            "align_self": null,
            "border": null,
            "bottom": null,
            "display": null,
            "flex": null,
            "flex_flow": null,
            "grid_area": null,
            "grid_auto_columns": null,
            "grid_auto_flow": null,
            "grid_auto_rows": null,
            "grid_column": null,
            "grid_gap": null,
            "grid_row": null,
            "grid_template_areas": null,
            "grid_template_columns": null,
            "grid_template_rows": null,
            "height": null,
            "justify_content": null,
            "justify_items": null,
            "left": null,
            "margin": null,
            "max_height": null,
            "max_width": null,
            "min_height": null,
            "min_width": null,
            "object_fit": null,
            "object_position": null,
            "order": null,
            "overflow": null,
            "overflow_x": null,
            "overflow_y": null,
            "padding": null,
            "right": null,
            "top": null,
            "visibility": null,
            "width": null
          }
        }
      }
    }
  },
  "cells": [
    {
      "cell_type": "markdown",
      "metadata": {
        "id": "view-in-github",
        "colab_type": "text"
      },
      "source": [
        "<a href=\"https://colab.research.google.com/github/hubgitme/BPB-Panel-2.3.4/blob/main/Untitled3.ipynb\" target=\"_parent\"><img src=\"https://colab.research.google.com/assets/colab-badge.svg\" alt=\"Open In Colab\"/></a>"
      ]
    },
    {
      "cell_type": "code",
      "execution_count": 1,
      "metadata": {
        "colab": {
          "base_uri": "https://localhost:8080/",
          "height": 933,
          "referenced_widgets": [
            "03246c43b0b5480e803965e79cc84235",
            "b6aa5ae45311441e96c63c77e0abd257",
            "04a44fe1314740a3b465e5a054ec3540",
            "871aad00434947b4ac03fafe0f4b9760",
            "293b377cc1cd4b6eb9f19ac9c965d56f",
            "612bd0a69e8a4e16b4ae05f0ec64c438",
            "cae1203c37804cc682b84159fa9092e7",
            "c6cdf2c485ae4a74b0273cc9096403f0"
          ]
        },
        "id": "yh83bae0Jc8t",
        "outputId": "356b38c7-d476-47ef-8905-4e1582d04881"
      },
      "outputs": [
        {
          "output_type": "display_data",
          "data": {
            "text/plain": [
              "Textarea(value='http://85.133.240.75:8080\\nsocks5://185.105.102.189:1080', description='Proxy List:', layout=L…"
            ],
            "application/vnd.jupyter.widget-view+json": {
              "version_major": 2,
              "version_minor": 0,
              "model_id": "03246c43b0b5480e803965e79cc84235"
            }
          },
          "metadata": {}
        },
        {
          "output_type": "display_data",
          "data": {
            "text/plain": [
              "Button(button_style='success', description='تست و ذخیره پروکسی\\u200cها', style=ButtonStyle())"
            ],
            "application/vnd.jupyter.widget-view+json": {
              "version_major": 2,
              "version_minor": 0,
              "model_id": "871aad00434947b4ac03fafe0f4b9760"
            }
          },
          "metadata": {}
        },
        {
          "output_type": "display_data",
          "data": {
            "text/plain": [
              "Output()"
            ],
            "application/vnd.jupyter.widget-view+json": {
              "version_major": 2,
              "version_minor": 0,
              "model_id": "cae1203c37804cc682b84159fa9092e7"
            }
          },
          "metadata": {}
        }
      ],
      "source": [
        "\n",
        "# نصب کتابخانه‌ها\n",
        "!pip install -q requests[socks] pandas\n",
        "\n",
        "import requests\n",
        "import pandas as pd\n",
        "from IPython.display import display, HTML\n",
        "import ipywidgets as widgets\n",
        "from IPython.display import clear_output\n",
        "\n",
        "# فرم ورودی\n",
        "proxy_input = widgets.Textarea(\n",
        "    value='http://85.133.240.75:8080\\nsocks5://185.105.102.189:1080',\n",
        "    placeholder='هر پروکسی را در یک خط وارد کن.\\nمثلاً:\\nhttp://1.2.3.4:8080\\nsocks4://5.6.7.8:1080',\n",
        "    description='Proxy List:',\n",
        "    layout=widgets.Layout(width='100%', height='150px')\n",
        ")\n",
        "\n",
        "run_button = widgets.Button(description=\"تست و ذخیره پروکسی‌ها\", button_style='success')\n",
        "output_box = widgets.Output()\n",
        "\n",
        "def test_proxy_list(b):\n",
        "    clear_output()\n",
        "    display(proxy_input, run_button, output_box)\n",
        "    proxies = proxy_input.value.strip().splitlines()\n",
        "\n",
        "    results = []\n",
        "    for proxy in proxies:\n",
        "        proxy = proxy.strip()\n",
        "        if not proxy:\n",
        "            continue\n",
        "        protocol = proxy.split(\"://\")[0].upper()\n",
        "        proxies_dict = {\"http\": proxy, \"https\": proxy}\n",
        "        try:\n",
        "            r = requests.get(\"http://httpbin.org/ip\", proxies=proxies_dict, timeout=7)\n",
        "            ip = r.json().get(\"origin\", \"unknown\")\n",
        "            status = \"✅ سالم\"\n",
        "        except:\n",
        "            ip = \"-\"\n",
        "            status = \"❌ خراب\"\n",
        "        results.append({\"proxy\": proxy, \"protocol\": protocol, \"ip\": ip, \"status\": status})\n",
        "\n",
        "    # ذخیره JSON\n",
        "    json_path = \"/content/iran_proxies.json\"\n",
        "    with open(json_path, \"w\") as f:\n",
        "        import json\n",
        "        json.dump(results, f, indent=2, ensure_ascii=False)\n",
        "\n",
        "    # ذخیره CSV\n",
        "    df = pd.DataFrame(results)\n",
        "    csv_path = \"/content/iran_proxies.csv\"\n",
        "    df.to_csv(csv_path, index=False)\n",
        "\n",
        "    # ساخت جدول HTML\n",
        "    html = \"<h3>نتایج تست پروکسی‌ها:</h3><table><tr><th>پروکسی</th><th>نوع</th><th>IP خروجی</th><th>وضعیت</th></tr>\"\n",
        "    for row in results:\n",
        "        color = \"#4CAF50\" if \"✅\" in row[\"status\"] else \"#F44336\"\n",
        "        html += f\"<tr><td>{row['proxy']}</td><td>{row['protocol']}</td><td>{row['ip']}</td><td style='color:{color}'>{row['status']}</td></tr>\"\n",
        "    html += \"</table>\"\n",
        "\n",
        "    with output_box:\n",
        "        display(HTML(html))\n",
        "        display(HTML(f\"\"\"\n",
        "        <h4>⬇️ دانلود خروجی‌ها:</h4>\n",
        "        <ul>\n",
        "            <li><a href=\"{json_path}\" target=\"_blank\">دانلود JSON</a></li>\n",
        "            <li><a href=\"{csv_path}\" target=\"_blank\">دانلود CSV</a></li>\n",
        "        </ul>\n",
        "        \"\"\"))\n",
        "\n",
        "run_button.on_click(test_proxy_list)\n",
        "\n",
        "# نمایش فرم اولیه\n",
        "display(proxy_input, run_button, output_box)"
      ]
    }
  ]
}